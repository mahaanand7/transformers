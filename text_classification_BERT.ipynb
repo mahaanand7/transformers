{
  "nbformat": 4,
  "nbformat_minor": 0,
  "metadata": {
    "colab": {
      "provenance": [],
      "gpuType": "T4",
      "authorship_tag": "ABX9TyNFthF/ClSvbS/44lhkdQMr",
      "include_colab_link": true
    },
    "kernelspec": {
      "name": "python3",
      "display_name": "Python 3"
    },
    "language_info": {
      "name": "python"
    },
    "accelerator": "GPU"
  },
  "cells": [
    {
      "cell_type": "markdown",
      "metadata": {
        "id": "view-in-github",
        "colab_type": "text"
      },
      "source": [
        "<a href=\"https://colab.research.google.com/github/mahaanand7/transformers/blob/master/text_classification_BERT.ipynb\" target=\"_parent\"><img src=\"https://colab.research.google.com/assets/colab-badge.svg\" alt=\"Open In Colab\"/></a>"
      ]
    },
    {
      "cell_type": "code",
      "execution_count": 1,
      "metadata": {
        "id": "ivlfuc_iIQHI"
      },
      "outputs": [],
      "source": [
        "%%capture\n",
        "!pip install transformers[sentencepiece]"
      ]
    },
    {
      "cell_type": "code",
      "source": [
        "from transformers import pipeline\n",
        "import textwrap\n",
        "wrapper = textwrap.TextWrapper(width=80,break_long_words=False,break_on_hyphens=False)"
      ],
      "metadata": {
        "id": "trml1frWIi8t"
      },
      "execution_count": 3,
      "outputs": []
    },
    {
      "cell_type": "code",
      "source": [
        "sentence ='if you want to enjoy a feel good movie this movie is not your choice'\n",
        "classifier = pipeline('text-classification', model='distilbert-base-uncased-finetuned-sst-2-english')\n",
        "c = classifier(sentence)\n",
        "print('\\nSentence:')\n",
        "print(wrapper.fill(sentence))\n",
        "print(f\"\\nThis sentence is classified with a {c[0]['label']} sentiment\")"
      ],
      "metadata": {
        "colab": {
          "base_uri": "https://localhost:8080/"
        },
        "id": "hQBYnF6eIxVX",
        "outputId": "48cf822d-8de2-4fb9-c04b-4b623cc0dea5"
      },
      "execution_count": 8,
      "outputs": [
        {
          "output_type": "stream",
          "name": "stdout",
          "text": [
            "\n",
            "Sentence:\n",
            "if you want to enjoy a feel good movie this movie is not your choice\n",
            "\n",
            "This sentence is classified with a NEGATIVE sentiment\n"
          ]
        }
      ]
    },
    {
      "cell_type": "code",
      "source": [],
      "metadata": {
        "id": "c9jCvcvdJeBW"
      },
      "execution_count": null,
      "outputs": []
    },
    {
      "cell_type": "markdown",
      "source": [
        "### Classifying each word in a Sentence (Named Entity Recognition)"
      ],
      "metadata": {
        "id": "9ifyCNxGKYkA"
      }
    },
    {
      "cell_type": "code",
      "source": [
        "sentence = \"Govt of India - parliment was situvated at New Delhi, Where the Prime Minister attends the session\"\n",
        "ner = pipeline('token-classification',model ='dbmdz/bert-large-cased-finetuned-conll03-english',grouped_entities =True)\n",
        "ners = ner(sentence)\n",
        "\n",
        "print('\\nSentence:')\n",
        "print(wrapper.fill(sentence))\n",
        "print('\\n')\n",
        "\n",
        "for n in ners:\n",
        "  print(f\"{n['word']} - > {n['entity_group']}\")"
      ],
      "metadata": {
        "colab": {
          "base_uri": "https://localhost:8080/"
        },
        "id": "nPiPmNZ0Kdd2",
        "outputId": "daf87dbf-a921-4fe6-b89f-12eef79762de"
      },
      "execution_count": 10,
      "outputs": [
        {
          "output_type": "stream",
          "name": "stderr",
          "text": [
            "Some weights of the model checkpoint at dbmdz/bert-large-cased-finetuned-conll03-english were not used when initializing BertForTokenClassification: ['bert.pooler.dense.weight', 'bert.pooler.dense.bias']\n",
            "- This IS expected if you are initializing BertForTokenClassification from the checkpoint of a model trained on another task or with another architecture (e.g. initializing a BertForSequenceClassification model from a BertForPreTraining model).\n",
            "- This IS NOT expected if you are initializing BertForTokenClassification from the checkpoint of a model that you expect to be exactly identical (initializing a BertForSequenceClassification model from a BertForSequenceClassification model).\n"
          ]
        },
        {
          "output_type": "stream",
          "name": "stdout",
          "text": [
            "\n",
            "Sentence:\n",
            "Govt of India - parliment was situvated at New Delhi, Where the Prime Minister\n",
            "attends the session\n",
            "\n",
            "\n",
            "Govt of - > ORG\n",
            "India - > LOC\n",
            "New Delhi - > LOC\n"
          ]
        }
      ]
    },
    {
      "cell_type": "code",
      "source": [],
      "metadata": {
        "id": "GrSHDCTELS5w"
      },
      "execution_count": null,
      "outputs": []
    },
    {
      "cell_type": "markdown",
      "source": [
        "# Answering a question given a context\n"
      ],
      "metadata": {
        "id": "wShnOtfIMEq9"
      }
    },
    {
      "cell_type": "code",
      "source": [
        "context ='''\n",
        "\n",
        "Evidence before this study\n",
        "Parkinson’s disease is a neurodegenerative disorder heterogeneous in both its clinical manifestations and progression, which serves as possible evidence for the existence of disease subtypes. We searched PubMed and Google Scholar for original articles published in English with the terms “Parkinson’s disease” and “subtypes” or “clusters” published up until Aug 15, 2020. Previous studies have identified disease subtypes using data-driven approaches, but replication across cohorts has not always been possible, and translation of these subtypes into clinical practice has not yet been achieved. Models developed to date have several key limitations including use of cross-sectional data to define the subtypes, model assumptions that each subtype follows a fixed progression, and not accounting for both positive and negative effects of symptomatic therapies for Parkinson’s disease. Allowing for heterogeneity not only in disease manifestations but also progression, and accounting for medication effects is critical towards developing accurate disease models that can be used in clinical and research settings.'''\n",
        "\n",
        "question = 'Please list down the key limitations of this study ?'\n",
        "\n",
        "print('Text:')\n",
        "\n",
        "print(wrapper.fill(context))\n",
        "print('\\nQuestion')\n",
        "print(question)\n"
      ],
      "metadata": {
        "colab": {
          "base_uri": "https://localhost:8080/"
        },
        "id": "gzDuznXqMKNK",
        "outputId": "ddbc0a05-9a7a-471d-c50f-d8cb035d34d1"
      },
      "execution_count": 22,
      "outputs": [
        {
          "output_type": "stream",
          "name": "stdout",
          "text": [
            "Text:\n",
            "  Evidence before this study Parkinson’s disease is a neurodegenerative disorder\n",
            "heterogeneous in both its clinical manifestations and progression, which serves\n",
            "as possible evidence for the existence of disease subtypes. We searched PubMed\n",
            "and Google Scholar for original articles published in English with the terms\n",
            "“Parkinson’s disease” and “subtypes” or “clusters” published up until Aug 15,\n",
            "2020. Previous studies have identified disease subtypes using data-driven\n",
            "approaches, but replication across cohorts has not always been possible, and\n",
            "translation of these subtypes into clinical practice has not yet been achieved.\n",
            "Models developed to date have several key limitations including use of\n",
            "cross-sectional data to define the subtypes, model assumptions that each subtype\n",
            "follows a fixed progression, and not accounting for both positive and negative\n",
            "effects of symptomatic therapies for Parkinson’s disease. Allowing for\n",
            "heterogeneity not only in disease manifestations but also progression, and\n",
            "accounting for medication effects is critical towards developing accurate\n",
            "disease models that can be used in clinical and research settings.\n",
            "\n",
            "Question\n",
            "Please list down the key limitations of this study ?\n"
          ]
        }
      ]
    },
    {
      "cell_type": "code",
      "source": [
        "qa = pipeline('question-answering', model='distilbert-base-cased-distilled-squad')\n",
        "\n",
        "print('\\nQuestion:')\n",
        "print(question + '\\n')\n",
        "print('Answer:')\n",
        "\n",
        "a = qa(context=context, question = question)\n",
        "a['answer']"
      ],
      "metadata": {
        "colab": {
          "base_uri": "https://localhost:8080/",
          "height": 125
        },
        "id": "eSxK-Kt9MvsR",
        "outputId": "54749f3c-c2a8-4630-c600-a8a53eedab0b"
      },
      "execution_count": 23,
      "outputs": [
        {
          "output_type": "stream",
          "name": "stdout",
          "text": [
            "\n",
            "Question:\n",
            "Please list down the key limitations of this study ?\n",
            "\n",
            "Answer:\n"
          ]
        },
        {
          "output_type": "execute_result",
          "data": {
            "text/plain": [
              "'cross-sectional data to define the subtypes'"
            ],
            "application/vnd.google.colaboratory.intrinsic+json": {
              "type": "string"
            }
          },
          "metadata": {},
          "execution_count": 23
        }
      ]
    },
    {
      "cell_type": "code",
      "source": [
        "review ='''\n",
        "\n",
        "Evidence before this study Parkinson’s disease is a neurodegenerative disorder\n",
        "heterogeneous in both its clinical manifestations and progression, which serves\n",
        "as possible evidence for the existence of disease subtypes. We searched PubMed\n",
        "and Google Scholar for original articles published in English with the terms\n",
        "“Parkinson’s disease” and “subtypes” or “clusters” published up until Aug 15,\n",
        "2020. Previous studies have identified disease subtypes using data-driven\n",
        "approaches, but replication across cohorts has not always been possible, and\n",
        "translation of these subtypes into clinical practice has not yet been achieved.\n",
        "Models developed to date have several key limitations including use of\n",
        "cross-sectional data to define the subtypes, model assumptions that each subtype\n",
        "follows a fixed progression, and not accounting for both positive and negative\n",
        "effects of symptomatic therapies for Parkinson’s disease. Allowing for\n",
        "heterogeneity not only in disease manifestations but also progression, and\n",
        "accounting for medication effects is critical towards developing accurate\n",
        "disease models that can be used in clinical and research settings. '''\n",
        "\n",
        "print( '\\nOriginal Text:\\n')\n",
        "\n",
        "print(wrapper.fill(review))\n",
        "summarize = pipeline('summarization',model ='sshleifer/distilbart-cnn-12-6')\n",
        "\n",
        "summarized_text = summarize(review)[0]['summary_text']\n",
        "print('\\nSummarized text:')\n",
        "\n",
        "print(wrapper.fill(summarized_text))"
      ],
      "metadata": {
        "colab": {
          "base_uri": "https://localhost:8080/"
        },
        "id": "urvVdiLTNSA2",
        "outputId": "f5f35672-67a6-4541-bab8-b161b1e873b8"
      },
      "execution_count": 25,
      "outputs": [
        {
          "output_type": "stream",
          "name": "stdout",
          "text": [
            "\n",
            "Original Text:\n",
            "\n",
            "  Evidence before this study Parkinson’s disease is a neurodegenerative disorder\n",
            "heterogeneous in both its clinical manifestations and progression, which serves\n",
            "as possible evidence for the existence of disease subtypes. We searched PubMed\n",
            "and Google Scholar for original articles published in English with the terms\n",
            "“Parkinson’s disease” and “subtypes” or “clusters” published up until Aug 15,\n",
            "2020. Previous studies have identified disease subtypes using data-driven\n",
            "approaches, but replication across cohorts has not always been possible, and\n",
            "translation of these subtypes into clinical practice has not yet been achieved.\n",
            "Models developed to date have several key limitations including use of\n",
            "cross-sectional data to define the subtypes, model assumptions that each subtype\n",
            "follows a fixed progression, and not accounting for both positive and negative\n",
            "effects of symptomatic therapies for Parkinson’s disease. Allowing for\n",
            "heterogeneity not only in disease manifestations but also progression, and\n",
            "accounting for medication effects is critical towards developing accurate\n",
            "disease models that can be used in clinical and research settings.\n",
            "\n",
            "Summarized text:\n",
            " Parkinson’s disease is a neurodegenerative disorder that is heterogeneous in\n",
            "both its clinical manifestations and progression . Previous studies have\n",
            "identified disease subtypes using data-drivenapproaches, but replication across\n",
            "cohorts has not always been possible . Allowing forheterogeneity not only in\n",
            "disease manifestations but also progression, and accounting for medication\n",
            "effects is critical .\n"
          ]
        }
      ]
    },
    {
      "cell_type": "code",
      "source": [],
      "metadata": {
        "id": "ZJpVKAr2P4Ec"
      },
      "execution_count": null,
      "outputs": []
    },
    {
      "cell_type": "markdown",
      "source": [
        "# Fill in the Blanks"
      ],
      "metadata": {
        "id": "gaI_zuN4QxpT"
      }
    },
    {
      "cell_type": "code",
      "source": [
        "sentence = 'India is always <mask> with neighbouring countries'\n",
        "\n",
        "mask = pipeline('fill-mask',model='distilroberta-base')\n",
        "\n",
        "masks = mask(sentence)\n",
        "\n",
        "for m in masks:\n",
        "  print(m['sequence'])"
      ],
      "metadata": {
        "colab": {
          "base_uri": "https://localhost:8080/"
        },
        "id": "6SofO9G4Q0NZ",
        "outputId": "dfa5597c-6b5e-40ab-cf02-aa87f94d3f1c"
      },
      "execution_count": 29,
      "outputs": [
        {
          "output_type": "stream",
          "name": "stderr",
          "text": [
            "Some weights of the model checkpoint at distilroberta-base were not used when initializing RobertaForMaskedLM: ['roberta.pooler.dense.bias', 'roberta.pooler.dense.weight']\n",
            "- This IS expected if you are initializing RobertaForMaskedLM from the checkpoint of a model trained on another task or with another architecture (e.g. initializing a BertForSequenceClassification model from a BertForPreTraining model).\n",
            "- This IS NOT expected if you are initializing RobertaForMaskedLM from the checkpoint of a model that you expect to be exactly identical (initializing a BertForSequenceClassification model from a BertForSequenceClassification model).\n"
          ]
        },
        {
          "output_type": "stream",
          "name": "stdout",
          "text": [
            "India is always competitive with neighbouring countries\n",
            "India is always friendly with neighbouring countries\n",
            "India is always competing with neighbouring countries\n",
            "India is always negotiating with neighbouring countries\n",
            "India is always cooperating with neighbouring countries\n"
          ]
        }
      ]
    },
    {
      "cell_type": "code",
      "source": [],
      "metadata": {
        "id": "-vb3Xs9xRLvO"
      },
      "execution_count": null,
      "outputs": []
    },
    {
      "cell_type": "markdown",
      "source": [
        "# Translation (English to Tamil)"
      ],
      "metadata": {
        "id": "1oMISc5PR2va"
      }
    },
    {
      "cell_type": "code",
      "source": [
        "english = ''' Singapore airlines is my favourite airline'''\n",
        "\n",
        "translator = pipeline('translation_en_to_de', model='t5-base')\n",
        "\n",
        "german = translator(english)\n",
        "\n",
        "print('\\nEnglish')\n",
        "print(english)\n",
        "\n",
        "print('\\nGerman')\n",
        "print(german[0]['translation_text'])"
      ],
      "metadata": {
        "colab": {
          "base_uri": "https://localhost:8080/"
        },
        "id": "mAw0jvQcR6VY",
        "outputId": "ab822005-deb4-4926-af1c-70a727edd74b"
      },
      "execution_count": 32,
      "outputs": [
        {
          "output_type": "stream",
          "name": "stderr",
          "text": [
            "/usr/local/lib/python3.10/dist-packages/transformers/models/t5/tokenization_t5_fast.py:158: FutureWarning: This tokenizer was incorrectly instantiated with a model max length of 512 which will be corrected in Transformers v5.\n",
            "For now, this behavior is kept to avoid breaking backwards compatibility when padding/encoding with `truncation is True`.\n",
            "- Be aware that you SHOULD NOT rely on t5-base automatically truncating your input to 512 when padding/encoding.\n",
            "- If you want to encode/pad to sequences longer than 512 you can either instantiate this tokenizer with `model_max_length` or pass `max_length` when encoding/padding.\n",
            "- To avoid this warning, please instantiate this tokenizer with `model_max_length` set to your preferred value.\n",
            "  warnings.warn(\n"
          ]
        },
        {
          "output_type": "stream",
          "name": "stdout",
          "text": [
            "\n",
            "English\n",
            " Singapore airlines is my favourite airline\n",
            "\n",
            "German\n",
            "Singapore Airlines ist meine Lieblingsfluggesellschaft\n"
          ]
        }
      ]
    },
    {
      "cell_type": "code",
      "source": [],
      "metadata": {
        "id": "a8tQ4XZqSV7X"
      },
      "execution_count": null,
      "outputs": []
    }
  ]
}